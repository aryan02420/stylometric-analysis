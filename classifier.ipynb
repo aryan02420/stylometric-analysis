{
 "cells": [
  {
   "cell_type": "code",
   "execution_count": 21,
   "metadata": {},
   "outputs": [],
   "source": [
    "import numpy as np\n",
    "import nltk\n",
    "import json\n",
    "import os\n",
    "from lib import StyloAnalyzer\n"
   ]
  },
  {
   "cell_type": "code",
   "execution_count": 17,
   "metadata": {},
   "outputs": [],
   "source": [
    "f = open(\"output/metrics.json\")\n",
    "authors = []\n",
    "lists = [[], [], [], [], []]\n",
    "idx = -1\n",
    "data = json.load(f)\n",
    "for auth in data.keys():\n",
    "    if(auth.split(\".\")[0] not in authors):\n",
    "        idx += 1\n",
    "        authors.append(auth.split(\".\")[0])\n",
    "    \n",
    "    lists[idx].append(data[auth])\n",
    "\n",
    "metrics = dict(zip(authors, lists))"
   ]
  },
  {
   "cell_type": "code",
   "execution_count": 25,
   "metadata": {},
   "outputs": [],
   "source": [
    "corpora = ['aurthur_conan_doyle', 'charles_dickens', 'h_g_wells', 'jane_austen', 'jonathan_swift']\n",
    "\n",
    "analyzed_data = {}\n",
    "for corpus in corpora:\n",
    "    for entry in os.scandir(os.path.join('corpora_split', corpus)):\n",
    "        if entry.is_file():\n",
    "            with open(entry.path, 'r') as file:\n",
    "                analyzed_data[corpus + '.' + entry.name] = StyloAnalyzer(corpus + '.' + entry.name, file.read())\n"
   ]
  },
  {
   "cell_type": "code",
   "execution_count": 19,
   "metadata": {},
   "outputs": [
    {
     "name": "stdout",
     "output_type": "stream",
     "text": [
      "charles_dickens\n"
     ]
    }
   ],
   "source": [
    "def cosine_similarity(vec):\n",
    "    max_sim = 0\n",
    "    pred_author = \"\"\n",
    "\n",
    "    for author in metrics.keys() :\n",
    "        for metric in metrics[author]:\n",
    "            sim = np.dot(vec, metric) / (np.linalg.norm(vec) * np.linalg.norm(metric))\n",
    "            if sim > max_sim:\n",
    "                pred_author = author\n",
    "                max_sim = sim\n",
    "    \n",
    "    return pred_author\n",
    "\n",
    "vec = [5775, 0.2694372294372294, 0.0703030303030303, 0.0038095238095238095, 0.022337662337662337, 0.023203463203463205, 0.03272727272727273, 0.022683982683982685, 0.014545454545454545, 0.012121212121212121, 0.0036363636363636364, 0.011082251082251082, 0.012467532467532468, 0.00658008658008658, 0.003463203463203463, 0.005194805194805195, 0.007965367965367965, 0.010216450216450217, 0.00935064935064935, 0.007272727272727273, 0.0015584415584415584, 0.005541125541125541, 0.003982683982683983, 0.0038095238095238095, 0.015064935064935066, 0.004329004329004329, 0.005714285714285714, 0.0048484848484848485, 0.0008658008658008658, 0.0012121212121212121, 0.011601731601731603, 0.011774891774891775, 0.002077922077922078, 0.001038961038961039, 0.0008658008658008658, 0.0027705627705627706, 0.0015584415584415584, 0.004155844155844156, 0.0025974025974025974, 0.002077922077922078, 0.0024242424242424242, 0.003116883116883117, 0.004675324675324675, 0.0027705627705627706, 0.002077922077922078, 0.0036363636363636364, 0.0017316017316017316, 0.003116883116883117, 0.0008658008658008658, 0.004155844155844156, 0.0008658008658008658, 0.003116883116883117, 0.004675324675324675, 0.0012121212121212121, 0.0012121212121212121, 0.0005194805194805195, 0.003116883116883117, 0.004502164502164502, 0.0003463203463203463, 0.003116883116883117, 0.002077922077922078, 0.0006926406926406926, 0.00017316017316017316, 0.00329004329004329, 0.0003463203463203463, 0.001038961038961039, 0.001038961038961039, 0.002077922077922078, 0.0008658008658008658, 0.0025974025974025974, 0.0012121212121212121, 0.0017316017316017316, 0.0012121212121212121, 0.0012121212121212121, 0.0006926406926406926, 0.0005194805194805195, 0.0008658008658008658, 0.0012121212121212121, 0.0017316017316017316, 0.002077922077922078, 0.0003463203463203463, 0.0003463203463203463, 0.0017316017316017316, 0.0005194805194805195, 0.0005194805194805195, 0.0015584415584415584, 0.0013852813852813853, 0.0003463203463203463, 0.00017316017316017316, 0.0017316017316017316, 0.001038961038961039, 0.0008658008658008658, 0.0008658008658008658, 0.0, 0.0005194805194805195, 0.0, 0.0008658008658008658, 0.0017316017316017316, 0.00017316017316017316, 0.0005194805194805195, 0.0005194805194805195, 0.0008658008658008658, 0.026567481402763018, 0.006509032943676939, 0.009962805526036131, 0.08674282678002125, 0.015409139213602551, 0.002789585547290117, 0.0, 0.0, 0.022316684378320937, 0.02218384697130712, 0.016206163655685443, 0.0, 0.0, 4.232034632034632, 0.04865800865800866, 0.15324675324675324, 0.25523809523809526, 0.19064935064935065, 0.11497835497835499, 0.08034632034632035, 0.06701298701298701, 0.04, 0.02077922077922078, 0.01593073593073593, 0.0048484848484848485, 0.005714285714285714, 0.002251082251082251, 0.00017316017316017316, 0.00017316017316017316, 5.73901996370236, 0, 0.013430127041742287, 0.09219600725952813, 0.23012704174228676, 0.19019963702359347, 0.15862068965517243, 0.12740471869328493, 0.0838475499092559, 0.043557168784029036, 0.033030852994555354, 0.010163339382940109, 0.011978221415607986, 0.004718693284936479, 0.0003629764065335753, 0.0003629764065335753, 244, 30.852459016393443, 149, 50.718120805369125, 0, 0.022337662337662337, 0.021991341991341992, 0, 0.006233766233766234, 0.0017316017316017316, 0.028744588744588746, 0.07844155844155844, 0.00813852813852814, 0, 0.017835497835497836, 0.19047619047619047, 0.11532467532467533, 0.06337662337662338, 0, 0, 0, 0.03272727272727273, 0.005194805194805195, 0, 0, 0, 0, 0, 0, 0.05818181818181818, 0.0025974025974025974, 0.00017316017316017316, 0.07930735930735931, 0.12207792207792208, 0.0013852813852813853, 0.005541125541125541, 0.0017316017316017316, 0.0015584415584415584, 0.0012121212121212121, 0.009523809523809525, 0.0380952380952381, 0.008311688311688312, 0, 0.0012121212121212121, 0.03272727272727273, 0, 0.04017316017316017, 0.0036363636363636364, 0]\n",
    "print(cosine_similarity(vec))"
   ]
  },
  {
   "cell_type": "code",
   "execution_count": 18,
   "metadata": {},
   "outputs": [
    {
     "name": "stdout",
     "output_type": "stream",
     "text": [
      "charles_dickens\n"
     ]
    }
   ],
   "source": [
    "\n",
    "def euclidean_distance_similarity(vec):\n",
    "    min_dist = 1e10 - 1\n",
    "    pred_author = \"\"\n",
    "\n",
    "    for author in metrics.keys():\n",
    "        for metric in metrics[author]:\n",
    "            dist = 0\n",
    "            for i in range(len(metric)):\n",
    "                dist += (metric[i] - vec[i])**2\n",
    "            \n",
    "            dist = dist ** .5\n",
    "\n",
    "            if dist < min_dist:\n",
    "                pred_author = author\n",
    "                min_dist = dist\n",
    "\n",
    "    return pred_author\n",
    "\n",
    "\n",
    "vec = [5775, 0.2694372294372294, 0.0703030303030303, 0.0038095238095238095, 0.022337662337662337, 0.023203463203463205, 0.03272727272727273, 0.022683982683982685, 0.014545454545454545, 0.012121212121212121, 0.0036363636363636364, 0.011082251082251082, 0.012467532467532468, 0.00658008658008658, 0.003463203463203463, 0.005194805194805195, 0.007965367965367965, 0.010216450216450217, 0.00935064935064935, 0.007272727272727273, 0.0015584415584415584, 0.005541125541125541, 0.003982683982683983, 0.0038095238095238095, 0.015064935064935066, 0.004329004329004329, 0.005714285714285714, 0.0048484848484848485, 0.0008658008658008658, 0.0012121212121212121, 0.011601731601731603, 0.011774891774891775, 0.002077922077922078, 0.001038961038961039, 0.0008658008658008658, 0.0027705627705627706, 0.0015584415584415584, 0.004155844155844156, 0.0025974025974025974, 0.002077922077922078, 0.0024242424242424242, 0.003116883116883117, 0.004675324675324675, 0.0027705627705627706, 0.002077922077922078, 0.0036363636363636364, 0.0017316017316017316, 0.003116883116883117, 0.0008658008658008658, 0.004155844155844156, 0.0008658008658008658, 0.003116883116883117, 0.004675324675324675, 0.0012121212121212121, 0.0012121212121212121, 0.0005194805194805195, 0.003116883116883117, 0.004502164502164502, 0.0003463203463203463, 0.003116883116883117, 0.002077922077922078, 0.0006926406926406926, 0.00017316017316017316, 0.00329004329004329, 0.0003463203463203463, 0.001038961038961039, 0.001038961038961039, 0.002077922077922078, 0.0008658008658008658, 0.0025974025974025974, 0.0012121212121212121, 0.0017316017316017316, 0.0012121212121212121, 0.0012121212121212121, 0.0006926406926406926, 0.0005194805194805195, 0.0008658008658008658, 0.0012121212121212121, 0.0017316017316017316, 0.002077922077922078, 0.0003463203463203463, 0.0003463203463203463, 0.0017316017316017316, 0.0005194805194805195, 0.0005194805194805195, 0.0015584415584415584, 0.0013852813852813853, 0.0003463203463203463, 0.00017316017316017316, 0.0017316017316017316, 0.001038961038961039, 0.0008658008658008658, 0.0008658008658008658, 0.0, 0.0005194805194805195, 0.0, 0.0008658008658008658, 0.0017316017316017316, 0.00017316017316017316, 0.0005194805194805195, 0.0005194805194805195, 0.0008658008658008658, 0.026567481402763018, 0.006509032943676939, 0.009962805526036131, 0.08674282678002125, 0.015409139213602551, 0.002789585547290117, 0.0, 0.0, 0.022316684378320937, 0.02218384697130712, 0.016206163655685443, 0.0, 0.0, 4.232034632034632, 0.04865800865800866, 0.15324675324675324, 0.25523809523809526, 0.19064935064935065, 0.11497835497835499, 0.08034632034632035, 0.06701298701298701, 0.04, 0.02077922077922078, 0.01593073593073593, 0.0048484848484848485, 0.005714285714285714, 0.002251082251082251, 0.00017316017316017316, 0.00017316017316017316, 5.73901996370236, 0, 0.013430127041742287, 0.09219600725952813, 0.23012704174228676, 0.19019963702359347, 0.15862068965517243, 0.12740471869328493, 0.0838475499092559, 0.043557168784029036, 0.033030852994555354, 0.010163339382940109, 0.011978221415607986, 0.004718693284936479, 0.0003629764065335753, 0.0003629764065335753, 244, 30.852459016393443, 149, 50.718120805369125, 0, 0.022337662337662337, 0.021991341991341992, 0, 0.006233766233766234, 0.0017316017316017316, 0.028744588744588746, 0.07844155844155844, 0.00813852813852814, 0, 0.017835497835497836, 0.19047619047619047, 0.11532467532467533, 0.06337662337662338, 0, 0, 0, 0.03272727272727273, 0.005194805194805195, 0, 0, 0, 0, 0, 0, 0.05818181818181818, 0.0025974025974025974, 0.00017316017316017316, 0.07930735930735931, 0.12207792207792208, 0.0013852813852813853, 0.005541125541125541, 0.0017316017316017316, 0.0015584415584415584, 0.0012121212121212121, 0.009523809523809525, 0.0380952380952381, 0.008311688311688312, 0, 0.0012121212121212121, 0.03272727272727273, 0, 0.04017316017316017, 0.0036363636363636364, 0]\n",
    "print(euclidean_distance_similarity(vec))"
   ]
  },
  {
   "cell_type": "code",
   "execution_count": 14,
   "metadata": {},
   "outputs": [
    {
     "name": "stdout",
     "output_type": "stream",
     "text": [
      "211\n"
     ]
    }
   ],
   "source": [
    "inp_text = \"To judge from the size of the place, this Palace of Green Porcelain had a great deal more in it than a Gallery of Palaeontology; possibly historical galleries; it might be, even a library! To me, at least in my present circumstances, these would be vastly more interesting than this spectacle of old-time geology in decay. Exploring, I found another short gallery running transversely to the first. This appeared to be devoted to minerals, and the sight of a block of sulphur set my mind running on gunpowder. But I could find no saltpetre; indeed, no nitrates of any kind. Doubtless they had deliquesced ages ago. Yet the sulphur hung in my mind, and set up a train of thinking. As for the rest of the contents of that gallery, though on the whole they were the best preserved of all I saw, I had little interest. I am no specialist in mineralogy, and I went on down a very ruinous aisle running parallel to the first hall I had entered. Apparently this section had been devoted to natural history, but everything had long since passed out of recognition. A few shrivelled and blackened vestiges of what had once been stuffed animals, desiccated mummies in jars that had once held spirit, a brown dust of departed plants: that was all! I was sorry for that, because I should have been glad to trace the patient readjustments by which the conquest of animated nature had been attained. Then we came to a gallery of simply colossal proportions, but singularly ill-lit, the floor of it running downward at a slight angle from the end at which I entered. At intervals white globes hung from the ceiling—many of them cracked and smashed—which suggested that originally the place had been artificially lit. Here I was more in my element, for rising on either side of me were the huge bulks of big machines, all greatly corroded and many broken down, but some still fairly complete. You know I have a certain weakness for mechanism, and I was inclined to linger among these; the more so as for the most part they had the interest of puzzles, and I could make only the vaguest guesses at what they were for. I fancied that if I could solve their puzzles I should find myself in possession of powers that might be of use against the Morlocks.\""
   ]
  },
  {
   "cell_type": "code",
   "execution_count": 26,
   "metadata": {},
   "outputs": [
    {
     "name": "stdout",
     "output_type": "stream",
     "text": [
      "charles_dickens\n"
     ]
    }
   ],
   "source": [
    "def jaccard_similarity(inp_text):\n",
    "    tokens = set([word.lower() for word in nltk.word_tokenize(inp_text) if word.isalpha()])\n",
    "    max_sim = 0\n",
    "    pred_author = \"\"\n",
    "\n",
    "    for corpus_name in analyzed_data.keys():\n",
    "        author = corpus_name.split(\".\")[0]\n",
    "        corp_tokens = analyzed_data[corpus_name].unique_words\n",
    "        union = tokens.union(corp_tokens)\n",
    "        inter = tokens.intersection(corp_tokens)\n",
    "\n",
    "        sim = len(inter) / len(union)\n",
    "\n",
    "        if sim > max_sim :\n",
    "            pred_author = author\n",
    "            max_sim = sim\n",
    "    \n",
    "    return pred_author\n",
    "            \n",
    "print(jaccard_similarity(inp_text))"
   ]
  },
  {
   "cell_type": "code",
   "execution_count": null,
   "metadata": {},
   "outputs": [],
   "source": []
  }
 ],
 "metadata": {
  "interpreter": {
   "hash": "7e85ec9bf098c5427e45e2f632dcd4eeff803b007e1abd287d600879388709c1"
  },
  "kernelspec": {
   "display_name": "Python 3.8.12 64-bit",
   "language": "python",
   "name": "python3"
  },
  "language_info": {
   "codemirror_mode": {
    "name": "ipython",
    "version": 3
   },
   "file_extension": ".py",
   "mimetype": "text/x-python",
   "name": "python",
   "nbconvert_exporter": "python",
   "pygments_lexer": "ipython3",
   "version": "3.8.12"
  },
  "orig_nbformat": 4
 },
 "nbformat": 4,
 "nbformat_minor": 2
}
