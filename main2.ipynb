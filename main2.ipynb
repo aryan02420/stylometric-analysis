{
 "cells": [
  {
   "cell_type": "code",
   "execution_count": 1,
   "metadata": {},
   "outputs": [],
   "source": [
    "import os\n",
    "import json\n",
    "import numpy as np\n",
    "from lib import StyloAnalyzer\n",
    "\n",
    "corpora = ['aurthur_conan_doyle', 'charles_dickens',\n",
    "           'h_g_wells', 'jane_austen', 'jonathan_swift']\n",
    "# corpora = ['aurthur_conan_doyle']\n"
   ]
  },
  {
   "cell_type": "code",
   "execution_count": 2,
   "metadata": {},
   "outputs": [],
   "source": [
    "class StyloAnalyzer(StyloAnalyzer):\n",
    "    def __init__(self, label: str, text: str) -> None:\n",
    "        super().__init__(label, text)"
   ]
  },
  {
   "cell_type": "code",
   "execution_count": 3,
   "metadata": {},
   "outputs": [],
   "source": [
    "analyzed_data = {}\n",
    "for corpus in corpora:\n",
    "    for entry in os.scandir(os.path.join('corpora_split', corpus)):\n",
    "        if entry.is_file():\n",
    "            with open(entry.path, 'r') as file:\n",
    "                analyzed_data[corpus + '.' + entry.name] = StyloAnalyzer(corpus + '.' + entry.name, file.read())\n",
    "        # break\n"
   ]
  },
  {
   "cell_type": "code",
   "execution_count": 4,
   "metadata": {},
   "outputs": [],
   "source": [
    "result = {}\n",
    "for data in analyzed_data.values():\n",
    "    result[data.label] = data.vector\n",
    "    \n",
    "json_object = json.dumps(result)\n",
    "\n",
    "with open(os.path.join('output', 'metrics.json'), 'w') as outfile:\n",
    "    outfile.write(json_object)"
   ]
  },
  {
   "cell_type": "code",
   "execution_count": 5,
   "metadata": {},
   "outputs": [],
   "source": [
    "result = {}\n",
    "for data in analyzed_data.values():\n",
    "    result[data.label] = data.json\n",
    "    # for series in data.json:\n",
    "    #     if series.startswith('av_words_per_'):\n",
    "    #         continue\n",
    "    #     result[data.label][series] = list(np.cumsum(data.json[series]))\n",
    "\n",
    "json_object = json.dumps(result)\n",
    "\n",
    "with open(os.path.join('output', 'plot_all.json'), 'w') as outfile:\n",
    "    outfile.write(json_object)\n",
    "\n"
   ]
  },
  {
   "cell_type": "code",
   "execution_count": 6,
   "metadata": {},
   "outputs": [],
   "source": [
    "result2 = {}\n",
    "for label in result:\n",
    "    author = label.split('.')[0]\n",
    "    if author not in result2.keys():\n",
    "        result2[author] = {}\n",
    "    for series in result[label]:\n",
    "        author_data = result2.get(author)\n",
    "        if series not in author_data.keys():\n",
    "            author_data[series] = []\n",
    "        author_data[series].append(result[label][series])\n",
    "\n",
    "result3 = {}\n",
    "for author in result2:\n",
    "    if author not in result3.keys():\n",
    "        result3[author] = {}\n",
    "    for series in result2[author]:\n",
    "        if series.startswith('av_words_per_'):\n",
    "            values = sorted(result2[author][series])\n",
    "            Q1 = np.percentile(values, 25, interpolation='midpoint')\n",
    "            Q2 = np.percentile(values, 50, interpolation='midpoint')\n",
    "            Q3 = np.percentile(values, 75, interpolation='midpoint')\n",
    "            IQR = Q3 - Q1\n",
    "            Min = Q1 - 1.5*IQR\n",
    "            Max = Q3 + 1.5*IQR\n",
    "            result3[author][series] = [Min, Q1, Q2, Q3, Max]\n",
    "            continue\n",
    "        result3[author][series] = []\n",
    "        data = list(zip(*result2[author][series]))\n",
    "        for i in range(len(data)):\n",
    "            values = sorted(data[i])\n",
    "            Q1 = np.percentile(values, 25, interpolation='midpoint')\n",
    "            Q2 = np.percentile(values, 50, interpolation='midpoint')\n",
    "            Q3 = np.percentile(values, 75, interpolation='midpoint')\n",
    "            IQR = Q3 - Q1\n",
    "            Min = Q1 - 1.5*IQR\n",
    "            Max = Q3 + 1.5*IQR\n",
    "            result3[author][series].append([Min, Q1, Q2, Q3, Max])\n",
    "        result3[author][series] = [list(np.cumsum(fd))\n",
    "                                   for fd in list(zip(*result3[author][series]))]\n",
    "\n",
    "json_object = json.dumps(result3)\n",
    "with open(os.path.join('output', 'plot.json'), 'w') as outfile:\n",
    "    outfile.write(json_object)"
   ]
  }
 ],
 "metadata": {
  "interpreter": {
   "hash": "31f2aee4e71d21fbe5cf8b01ff0e069b9275f58929596ceb00d14d90e3e16cd6"
  },
  "kernelspec": {
   "display_name": "Python 3",
   "language": "python",
   "name": "python3"
  },
  "language_info": {
   "codemirror_mode": {
    "name": "ipython",
    "version": 3
   },
   "file_extension": ".py",
   "mimetype": "text/x-python",
   "name": "python",
   "nbconvert_exporter": "python",
   "pygments_lexer": "ipython3",
   "version": "3.8.12"
  }
 },
 "nbformat": 4,
 "nbformat_minor": 2
}
