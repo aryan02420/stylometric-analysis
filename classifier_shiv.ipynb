{
  "cells": [
    {
      "cell_type": "code",
      "execution_count": null,
      "metadata": {
        "id": "w4LXUxMw_oLR"
      },
      "outputs": [],
      "source": [
        "import torch\n",
        "import torch.nn as nn\n",
        "import torch.nn.functional as F\n",
        "import torch.optim as optim\n",
        "from lib import StyloAnalyzer"
      ]
    },
    {
      "cell_type": "code",
      "execution_count": null,
      "metadata": {
        "id": "fdi30t54-nL7"
      },
      "outputs": [],
      "source": [
        "class ann(nn.Module):\n",
        "  def __init__(self,input_size,num_classes):\n",
        "    super(ann,self).__init__()\n",
        "    self.fc1 = nn.Linear(input_size,64)\n",
        "    self.out = nn.Linear(64,num_classes)\n",
        "    \n",
        "  def forward(self,x):\n",
        "    x = F.relu(self.fc1(x))\n",
        "    x = self.out(x)\n",
        "    return x"
      ]
    },
    {
      "cell_type": "code",
      "execution_count": null,
      "metadata": {
        "id": "q1nRkcYg-9GP"
      },
      "outputs": [],
      "source": [
        "corpora=['aurthur_conan_doyle','charles_dickens','h_g_wells','jane_austen','jonathan_swift']"
      ]
    },
    {
      "cell_type": "code",
      "execution_count": null,
      "metadata": {
        "id": "2eKlV2-zAfUG"
      },
      "outputs": [],
      "source": [
        "temp = {}\n",
        "r=open('output/metrics.json', 'r')\n",
        "temp=json.load(r)\n",
        "train=[]\n",
        "for label in temp:\n",
        "  lab=label.split('.')\n",
        "  train.append(temp[label].append(lab))\n"
      ]
    },
    {
      "cell_type": "code",
      "execution_count": null,
      "metadata": {
        "id": "75AAczSq9brG"
      },
      "outputs": [],
      "source": [
        "train[0]"
      ]
    },
    {
      "cell_type": "code",
      "execution_count": null,
      "metadata": {
        "id": "xFljJVuRJ3il"
      },
      "outputs": [],
      "source": [
        "device = torch.device('cuda' if torch.cuda.is_available else 'cpu')\n",
        "model=ann(train[0].length(),5).to(device)\n",
        "criterion = nn.CrossEntropyLoss()\n",
        "optimizer = optim.Adam(model.parameters(),lr = 0.01)"
      ]
    },
    {
      "cell_type": "code",
      "execution_count": null,
      "metadata": {
        "id": "2rIMappDN7HE"
      },
      "outputs": [],
      "source": [
        "tr_acc = []\n",
        "num_epochs = 5\n",
        "for epoch in range(num_epochs):\n",
        "  for data in train:\n",
        "    data = data.to(device=device)\n",
        "    targets = targets.to(device = device)\n",
        "    scores = model(data)\n",
        "    loss = criterion(scores,targets)"
      ]
    }
  ],
  "metadata": {
    "colab": {
      "collapsed_sections": [],
      "name": "NLP_ass2.ipynb",
      "provenance": []
    },
    "kernelspec": {
      "display_name": "Python 3",
      "name": "python3"
    },
    "language_info": {
      "name": "python"
    }
  },
  "nbformat": 4,
  "nbformat_minor": 0
}
