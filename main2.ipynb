{
 "cells": [
  {
   "cell_type": "code",
   "execution_count": 12,
   "metadata": {},
   "outputs": [],
   "source": [
    "import os\n",
    "import json\n",
    "from lib import StyloAnalyzer\n",
    "\n",
    "corpora = ['aurthur_conan_doyle', 'charles_dickens',\n",
    "           'h_g_wells', 'jane_austen', 'jonathan_swift']\n",
    "# corpora = ['aurthur_conan_doyle']\n"
   ]
  },
  {
   "cell_type": "code",
   "execution_count": 13,
   "metadata": {},
   "outputs": [],
   "source": [
    "class StyloAnalyzer(StyloAnalyzer):\n",
    "    def __init__(self, label: str, text: str) -> None:\n",
    "        super().__init__(label, text)"
   ]
  },
  {
   "cell_type": "code",
   "execution_count": 14,
   "metadata": {},
   "outputs": [],
   "source": [
    "analyzed_data = {}\n",
    "for corpus in corpora:\n",
    "    for entry in os.scandir(os.path.join('corpora_split', corpus)):\n",
    "        if entry.is_file():\n",
    "            with open(entry.path, 'r') as file:\n",
    "                analyzed_data[corpus + '.' + entry.name] = StyloAnalyzer(corpus + '.' + entry.name, file.read())\n",
    "        # break\n"
   ]
  },
  {
   "cell_type": "code",
   "execution_count": 15,
   "metadata": {},
   "outputs": [],
   "source": [
    "result = {}\n",
    "for data in analyzed_data.values():\n",
    "    result[data.label] = data.vector"
   ]
  },
  {
   "cell_type": "code",
   "execution_count": 17,
   "metadata": {},
   "outputs": [],
   "source": [
    "json_object = json.dumps(result,)\n",
    "\n",
    "with open(os.path.join('output', 'metrics.json'), 'w') as outfile:\n",
    "    outfile.write(json_object)"
   ]
  },
  {
   "cell_type": "code",
   "execution_count": null,
   "metadata": {},
   "outputs": [],
   "source": []
  }
 ],
 "metadata": {
  "interpreter": {
   "hash": "31f2aee4e71d21fbe5cf8b01ff0e069b9275f58929596ceb00d14d90e3e16cd6"
  },
  "kernelspec": {
   "display_name": "Python 3",
   "language": "python",
   "name": "python3"
  },
  "language_info": {
   "codemirror_mode": {
    "name": "ipython",
    "version": 3
   },
   "file_extension": ".py",
   "mimetype": "text/x-python",
   "name": "python",
   "nbconvert_exporter": "python",
   "pygments_lexer": "ipython3",
   "version": "3.8.12"
  }
 },
 "nbformat": 4,
 "nbformat_minor": 2
}
