{
 "cells": [
  {
   "cell_type": "code",
   "execution_count": 97,
   "metadata": {},
   "outputs": [],
   "source": [
    "import os\n",
    "import nltk\n",
    "import numpy as np\n"
   ]
  },
  {
   "cell_type": "code",
   "execution_count": 103,
   "metadata": {},
   "outputs": [],
   "source": [
    "corpora = ['aurthur_conan_doyle', 'charles_dickens', 'h_g_wells', 'jane_austen', 'jonathan_swift']\n",
    "common_words = ['the','be','to','of','and','a','in','that','have','I','it','for','not','on','with','he','as','you','do','at','this','but','his','by','from','they','we','say','her','she','or','an','will','my','one','all','would','there','their','what','so','up','out','if','about','who','get','which','go','me','when','make','can','like','time','no','just','him','know','take','people','into','year','your','good','some','could','them','see','other','than','then','now','look','only','come','its','over','think','also','back','after','use','two','how','our','work','first','well','way','even','new','want','because','any','these','give','day','most','us']\n",
    "punct = [\".\", \"?\", \"!\", \",\", \";\", \":\", \"-\", \"\\\"\"]\n"
   ]
  },
  {
   "cell_type": "code",
   "execution_count": 104,
   "metadata": {},
   "outputs": [],
   "source": [
    "input_data = {}\n",
    "for corpus in corpora:\n",
    "  with open(os.path.join(\"corpora\", corpus), 'r') as file:\n",
    "    input_data[corpus] = file.read()\n"
   ]
  },
  {
   "cell_type": "code",
   "execution_count": 105,
   "metadata": {},
   "outputs": [],
   "source": [
    "class StyloAnalysis(object):\n",
    "  def __init__(self, corpus: str, raw: str) -> None:\n",
    "    super().__init__()\n",
    "    raw = raw.lower()\n",
    "    self.corpus = corpus\n",
    "    self.words = nltk.word_tokenize(raw)\n",
    "    self.uniq = set(self.words)\n",
    "    self.text = nltk.text.Text(self.words)\n",
    "    self.freq = nltk.probability.FreqDist(self.text)\n",
    "    self.ttr = len(self.uniq) / len(self.words)\n",
    "    self.av_word_len = 0 # TODO\n",
    "    self.sents = nltk.sent_tokenize(raw)\n",
    "    self.av_words_per_sent = 0 # TODO\n",
    "\n",
    "  def token_per_1000(self, token):\n",
    "    return self.text.count(token.lower()) / len(self.text) * 1000\n",
    "  \n",
    "  def common_words_per_1000(self):\n",
    "    return [(word, self.token_per_1000(word)) for word in common_words]\n",
    "\n",
    "  def punct_per_1000(self):\n",
    "    return [(word, self.token_per_1000(word)) for word in punct]\n",
    "\n",
    "\n"
   ]
  },
  {
   "cell_type": "code",
   "execution_count": 106,
   "metadata": {},
   "outputs": [
    {
     "name": "stdout",
     "output_type": "stream",
     "text": [
      "{'aurthur_conan_doyle': <__main__.StyloAnalysis object at 0x7f0c544e9be0>, 'charles_dickens': <__main__.StyloAnalysis object at 0x7f0c544d99d0>, 'h_g_wells': <__main__.StyloAnalysis object at 0x7f0bdfc93970>, 'jane_austen': <__main__.StyloAnalysis object at 0x7f0c544e96a0>, 'jonathan_swift': <__main__.StyloAnalysis object at 0x7f0c544e9fd0>}\n"
     ]
    }
   ],
   "source": [
    "analyzed_data = {}\n",
    "for corpus in corpora:\n",
    "  analyzed_data[corpus] = StyloAnalysis(corpus, input_data[corpus])\n",
    "\n",
    "print(analyzed_data)\n"
   ]
  },
  {
   "cell_type": "code",
   "execution_count": 107,
   "metadata": {},
   "outputs": [
    {
     "data": {
      "text/plain": [
       "[('.', 47.50370483928663),\n",
       " ('?', 3.8939138433236242),\n",
       " ('!', 4.895497981501355),\n",
       " (',', 59.73733966988604),\n",
       " (';', 2.401757882364965),\n",
       " (':', 0.511012315396801),\n",
       " ('-', 0.0),\n",
       " ('\"', 0.0)]"
      ]
     },
     "execution_count": 107,
     "metadata": {},
     "output_type": "execute_result"
    }
   ],
   "source": [
    "analyzed_data['h_g_wells'].common_words_per_1000()\n",
    "analyzed_data['h_g_wells'].punct_per_1000()\n"
   ]
  }
 ],
 "metadata": {
  "interpreter": {
   "hash": "916dbcbb3f70747c44a77c7bcd40155683ae19c65e1c03b4aa3499c5328201f1"
  },
  "kernelspec": {
   "display_name": "Python 3.8.12 64-bit",
   "name": "python3"
  },
  "language_info": {
   "codemirror_mode": {
    "name": "ipython",
    "version": 3
   },
   "file_extension": ".py",
   "mimetype": "text/x-python",
   "name": "python",
   "nbconvert_exporter": "python",
   "pygments_lexer": "ipython3",
   "version": "3.8.12"
  },
  "orig_nbformat": 4
 },
 "nbformat": 4,
 "nbformat_minor": 2
}
