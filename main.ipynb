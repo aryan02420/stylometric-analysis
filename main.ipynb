{
 "cells": [
  {
   "cell_type": "code",
   "execution_count": 1,
   "metadata": {},
   "outputs": [],
   "source": [
    "import os\n",
    "import json\n",
    "from lib import StyloAnalyzer\n",
    "\n",
    "# nltk.download('all')\n",
    "# nltk.help.upenn_tagset()\n",
    "# nltk.corpus.words.raw()"
   ]
  },
  {
   "cell_type": "code",
   "execution_count": 2,
   "metadata": {},
   "outputs": [],
   "source": [
    "corpora = ['aurthur_conan_doyle', 'charles_dickens', 'h_g_wells', 'jane_austen', 'jonathan_swift']\n",
    "# corpora = ['jane_austen']\n"
   ]
  },
  {
   "cell_type": "code",
   "execution_count": 3,
   "metadata": {},
   "outputs": [],
   "source": [
    "input_data = {}\n",
    "for corpus in corpora:\n",
    "  with open(os.path.join(\"corpora\", corpus), 'r') as file:\n",
    "    input_data[corpus] = file.read()\n"
   ]
  },
  {
   "cell_type": "code",
   "execution_count": 4,
   "metadata": {},
   "outputs": [],
   "source": [
    "analyzed_data = {}\n",
    "for corpus in corpora:\n",
    "  analyzed_data[corpus] = StyloAnalyzer(corpus, input_data[corpus])\n"
   ]
  },
  {
   "cell_type": "code",
   "execution_count": 6,
   "metadata": {},
   "outputs": [],
   "source": [
    "result = {}\n",
    "for data in analyzed_data.values():\n",
    "    result[data.label] = data.json\n",
    "\n",
    "json_object = json.dumps(result)\n",
    "with open(os.path.join('output', 'plot_simple.json'), 'w') as outfile:\n",
    "    outfile.write(json_object)"
   ]
  }
 ],
 "metadata": {
  "interpreter": {
   "hash": "31f2aee4e71d21fbe5cf8b01ff0e069b9275f58929596ceb00d14d90e3e16cd6"
  },
  "kernelspec": {
   "display_name": "Python 3.8.12 64-bit",
   "name": "python3"
  },
  "language_info": {
   "codemirror_mode": {
    "name": "ipython",
    "version": 3
   },
   "file_extension": ".py",
   "mimetype": "text/x-python",
   "name": "python",
   "nbconvert_exporter": "python",
   "pygments_lexer": "ipython3",
   "version": "3.8.12"
  },
  "orig_nbformat": 4
 },
 "nbformat": 4,
 "nbformat_minor": 2
}
