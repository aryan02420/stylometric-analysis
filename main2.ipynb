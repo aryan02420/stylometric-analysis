{
 "cells": [
  {
   "cell_type": "code",
   "execution_count": 1,
   "metadata": {},
   "outputs": [],
   "source": [
    "import os\n",
    "import nltk\n",
    "import json\n",
    "from lib import StyloAnalyzer\n",
    "\n",
    "corpora = ['aurthur_conan_doyle', 'charles_dickens',\n",
    "           'h_g_wells', 'jane_austen', 'jonathan_swift']\n"
   ]
  },
  {
   "cell_type": "code",
   "execution_count": 2,
   "metadata": {},
   "outputs": [],
   "source": [
    "csv_data = []\n",
    "json_data = {}\n",
    "for corpus in corpora:\n",
    "    for entry in os.scandir(os.path.join('corpora_split', corpus)):\n",
    "        if entry.is_file():\n",
    "            with open(entry.path, 'r') as file:\n",
    "                s = StyloAnalyzer(corpus + '.' + entry.name, file.read())\n",
    "                csv_data.append(str(s))\n",
    "                json_data[corpus + '.' + entry.name] = s.toJSON()\n",
    "        # break\n"
   ]
  },
  {
   "cell_type": "code",
   "execution_count": 3,
   "metadata": {},
   "outputs": [],
   "source": [
    "with open('result2.json', 'w') as file:\n",
    "    file.write(json.dumps(json_data, indent=2))\n"
   ]
  },
  {
   "cell_type": "code",
   "execution_count": 4,
   "metadata": {},
   "outputs": [],
   "source": [
    "csv_data.sort()\n",
    "csv_data.insert(0, StyloAnalyzer.csv_header())\n",
    "with open('result2.tsv', 'w') as file:\n",
    "    file.write('\\n'.join(csv_data))\n"
   ]
  }
 ],
 "metadata": {
  "interpreter": {
   "hash": "31f2aee4e71d21fbe5cf8b01ff0e069b9275f58929596ceb00d14d90e3e16cd6"
  },
  "kernelspec": {
   "display_name": "Python 3.8.12 64-bit",
   "name": "python3"
  },
  "language_info": {
   "codemirror_mode": {
    "name": "ipython",
    "version": 3
   },
   "file_extension": ".py",
   "mimetype": "text/x-python",
   "name": "python",
   "nbconvert_exporter": "python",
   "pygments_lexer": "ipython3",
   "version": "3.8.12"
  },
  "orig_nbformat": 4
 },
 "nbformat": 4,
 "nbformat_minor": 2
}
