{
 "cells": [
  {
   "cell_type": "code",
   "execution_count": 1,
   "metadata": {},
   "outputs": [],
   "source": [
    "import os\n",
    "from lib import StyloAnalyzer\n",
    "\n",
    "corpora = ['aurthur_conan_doyle', 'charles_dickens',\n",
    "           'h_g_wells', 'jane_austen', 'jonathan_swift']\n",
    "corpora = ['aurthur_conan_doyle']"
   ]
  },
  {
   "cell_type": "code",
   "execution_count": 2,
   "metadata": {},
   "outputs": [],
   "source": [
    "analyzed_data = None\n",
    "for corpus in corpora:\n",
    "    for entry in os.scandir(os.path.join('corpora_split', corpus)):\n",
    "        if entry.is_file():\n",
    "            with open(entry.path, 'r') as file:\n",
    "                analyzed_data = StyloAnalyzer(corpus + '.' + entry.name, file.read())\n",
    "        break\n"
   ]
  },
  {
   "cell_type": "code",
   "execution_count": 13,
   "metadata": {},
   "outputs": [
    {
     "data": {
      "text/plain": [
       "[(4, 0.2408356326369728),\n",
       " (5, 0.19590067008277492),\n",
       " (6, 0.15372487189594009),\n",
       " (7, 0.11667323610563658),\n",
       " (3, 0.09420575482853764),\n",
       " (8, 0.06621994481671266),\n",
       " (9, 0.05833661805281829),\n",
       " (10, 0.027591643673630272),\n",
       " (11, 0.01931415057154119),\n",
       " (2, 0.011824990145841546),\n",
       " (12, 0.007883326763894364),\n",
       " (13, 0.005912495072920773),\n",
       " (14, 0.0015766653527788726)]"
      ]
     },
     "execution_count": 13,
     "metadata": {},
     "output_type": "execute_result"
    }
   ],
   "source": [
    "analyzed_data."
   ]
  },
  {
   "cell_type": "code",
   "execution_count": null,
   "metadata": {},
   "outputs": [],
   "source": []
  }
 ],
 "metadata": {
  "interpreter": {
   "hash": "31f2aee4e71d21fbe5cf8b01ff0e069b9275f58929596ceb00d14d90e3e16cd6"
  },
  "kernelspec": {
   "display_name": "Python 3",
   "language": "python",
   "name": "python3"
  },
  "language_info": {
   "codemirror_mode": {
    "name": "ipython",
    "version": 3
   },
   "file_extension": ".py",
   "mimetype": "text/x-python",
   "name": "python",
   "nbconvert_exporter": "python",
   "pygments_lexer": "ipython3",
   "version": "3.8.12"
  }
 },
 "nbformat": 4,
 "nbformat_minor": 2
}
